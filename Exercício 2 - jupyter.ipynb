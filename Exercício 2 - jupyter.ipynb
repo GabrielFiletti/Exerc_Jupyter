{
 "cells": [
  {
   "cell_type": "markdown",
   "metadata": {
    "slideshow": {
     "slide_type": "slide"
    }
   },
   "source": [
    "# Exercício 2 - Apresentação sobre tópicos da ementa do curso\n"
   ]
  },
  {
   "cell_type": "markdown",
   "metadata": {
    "slideshow": {
     "slide_type": "slide"
    }
   },
   "source": [
    "# Arquiteturas Modernas de Computação\n",
    "\n",
    "## Tópicos Interessantes:\n",
    "\n",
    "* Ambientes de nuvem computacional\n",
    "* Introdução ao conceito de nuvem computacional\n",
    "* Uso de nuvens comerciais para Machine Learning (AWS, Google Cloud, IBM Cloud)\n",
    "\n",
    "### Objetivos:\n",
    "\n",
    "Aprender a utilizar a plataforma AWS para realizar operações envolvendo Machine Learning"
   ]
  },
  {
   "cell_type": "markdown",
   "metadata": {
    "slideshow": {
     "slide_type": "slide"
    }
   },
   "source": [
    "# Programação Paralela\n",
    "\n",
    "## Tópicos Interessantes:\n",
    "\n",
    "* OpenMP\n",
    "* OpenACC\n",
    "\n",
    "\n",
    "### Objetivos:\n",
    "\n",
    "Aprender a utilizar *threads* por meio de *OpenMP* e *OpenACC* que oferecem uma camada capaz de abstrair a complexidade de se utilizar threads diretamente."
   ]
  },
  {
   "cell_type": "markdown",
   "metadata": {
    "slideshow": {
     "slide_type": "slide"
    }
   },
   "source": [
    "# Introdução ao processamento de imagem\n",
    "\n",
    "## Tópicos Interessantes:\n",
    "\n",
    "* O que é uma imagem\n",
    "    * Cores e canais\n",
    "    * Formatos\n",
    "    * Domínios\n",
    "* Alisar/manipular imagens usando bibliotecas:\n",
    "    * OpenCV para Python\n",
    "    \n",
    "### Objetivos:\n",
    "\n",
    "Aprofundar os conhecimentos sobre imagem digital, aprender a realizar a transformada de Cosseno e Wavelet."
   ]
  },
  {
   "cell_type": "markdown",
   "metadata": {
    "slideshow": {
     "slide_type": "slide"
    }
   },
   "source": [
    "# Aplicações em processamento de imagens\n",
    "\n",
    "## Tópicos Interessantes:\n",
    "\n",
    "* Identificação de bordas\n",
    "* Transformações geométricas\n",
    "* Filtragem/restauração\n",
    "* Detecção de características\n",
    "\n",
    "## Objetivos\n",
    "\n",
    "Aprender como realizar a detecção de características de imagens visando a utilização em problemas industriais."
   ]
  }
 ],
 "metadata": {
  "celltoolbar": "Slideshow",
  "kernelspec": {
   "display_name": "Python [conda env:exerjup] *",
   "language": "python",
   "name": "conda-env-exerjup-py"
  },
  "language_info": {
   "codemirror_mode": {
    "name": "ipython",
    "version": 3
   },
   "file_extension": ".py",
   "mimetype": "text/x-python",
   "name": "python",
   "nbconvert_exporter": "python",
   "pygments_lexer": "ipython3",
   "version": "3.7.4"
  }
 },
 "nbformat": 4,
 "nbformat_minor": 2
}
