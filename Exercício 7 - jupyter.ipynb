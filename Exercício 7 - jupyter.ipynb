{
 "cells": [
  {
   "cell_type": "markdown",
   "metadata": {},
   "source": [
    "# Profile usando Jupyter\n",
    "\n",
    "## Gabriel Filetti Martins\n",
    "\n",
    "![gabriel](https://scontent.fbfh2-1.fna.fbcdn.net/v/t1.0-9/11053614_844760978906217_7678726162372614270_n.jpg?_nc_cat=109&_nc_oc=AQnhlqNDbvepMoNm6ey4Ln9qlx-bu46NtfmVHDZIZsbDMlql4AIkqyO_r0O2P9tGEFMcOS0nsbrQfRhRgS7qsVG7&_nc_ht=scontent.fbfh2-1.fna&oh=f8c3dd9900564c5dca59ba8f25f3c448&oe=5E216C34)\n",
    "* Graduado em Engenharia Elétrica pela Universidade Estadual de Maringá\n",
    "* Mestre em Engenharia Química na área de controle de processos pela Universidade Estadual de Maringá\n",
    "* Experiência na área de:\n",
    "    * Iot\n",
    "    * AWS\n",
    "    * Automação Residencial\n",
    "    * Desenvolvimento de Sensores\n",
    "    * Microcontroladores - Arduino e PIC\n"
   ]
  },
  {
   "cell_type": "code",
   "execution_count": null,
   "metadata": {},
   "outputs": [],
   "source": []
  }
 ],
 "metadata": {
  "kernelspec": {
   "display_name": "Python [conda env:exerjup] *",
   "language": "python",
   "name": "conda-env-exerjup-py"
  },
  "language_info": {
   "codemirror_mode": {
    "name": "ipython",
    "version": 3
   },
   "file_extension": ".py",
   "mimetype": "text/x-python",
   "name": "python",
   "nbconvert_exporter": "python",
   "pygments_lexer": "ipython3",
   "version": "3.7.4"
  }
 },
 "nbformat": 4,
 "nbformat_minor": 2
}
